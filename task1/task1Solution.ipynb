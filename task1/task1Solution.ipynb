{
 "cells": [
  {
   "cell_type": "code",
   "execution_count": 2,
   "metadata": {
    "collapsed": true
   },
   "outputs": [],
   "source": [
    "import nltk\n",
    "import string\n",
    "import numpy as np\n",
    "import operator\n",
    "import math\n",
    "from nltk.corpus import stopwords\n",
    "from nltk.tokenize import RegexpTokenizer\n",
    "from nltk.stem.snowball import SnowballStemmer\n",
    "\n",
    "\n",
    "def normalize_line(line):\n",
    "    words = [stemmer.stem(word) for word in tokenizer.tokenize(line) if word not in stopwords.words('english')]\n",
    "    return words\n",
    "\n",
    "\n",
    "documents = {}\n",
    "N = 0\n",
    "with open('cran.all.1400', 'r') as f:\n",
    "    tokenizer = RegexpTokenizer(r'\\w+')\n",
    "    stemmer = SnowballStemmer(\"english\")\n",
    "\n",
    "    line = f.readline()\n",
    "    while line:\n",
    "        document = {}\n",
    "        document_id = line.split()[1]\n",
    "    \n",
    "        f.readline()  # skip .T line\n",
    "\n",
    "        line = f.readline()\n",
    "        title_words = []\n",
    "        while not line.startswith('.A'):\n",
    "            title_words.extend(normalize_line(line))\n",
    "            line = f.readline()\n",
    "        document['title'] = title_words\n",
    "\n",
    "        line = f.readline()\n",
    "        while not line.startswith('.W'):\n",
    "            line = f.readline()\n",
    "\n",
    "        line = f.readline()\n",
    "        annotation_words = []\n",
    "        while not line.startswith('.I') and line:\n",
    "            annotation_words.extend(normalize_line(line))\n",
    "            line = f.readline()\n",
    "        document['annotation'] = annotation_words\n",
    "\n",
    "        documents[document_id] = document\n",
    "        N += 1   \n",
    "    \n",
    "L_title = 0  # average length of annotation in documents\n",
    "for document_index, document in documents.iteritems():\n",
    "    L_title += len(document['annotation'])\n",
    "    L_title /= float(N)\n",
    "\n",
    "\n",
    "L_annotation = 0  # average length of annotation in documents\n",
    "for document_index, document in documents.iteritems():\n",
    "    L_annotation += len(document['annotation'])\n",
    "    L_annotation /= float(N)\n"
   ]
  },
  {
   "cell_type": "code",
   "execution_count": 6,
   "metadata": {
    "collapsed": false
   },
   "outputs": [],
   "source": [
    "def create_inverted_index(document_field_name):\n",
    "    invert_index = {}\n",
    "    for document_index, document in documents.iteritems():\n",
    "        for word in document[document_field_name]:\n",
    "            if word in invert_index.keys() and document_index in invert_index[word].keys():\n",
    "                pass\n",
    "            else:\n",
    "                if word not in invert_index:\n",
    "                    invert_index[word] = {document_index: document[document_field_name].count(word)}\n",
    "                else:\n",
    "                    invert_index[word][document_index] = document[document_field_name].count(word)\n",
    "\n",
    "    return invert_index"
   ]
  },
  {
   "cell_type": "code",
   "execution_count": 43,
   "metadata": {},
   "outputs": [],
   "source": [
    "def search_in_index(index, query_words, field_name, b, k1, rsv_function_type, k2):\n",
    "    founded_documents_indexes = set()\n",
    "    for query_word in query_words:\n",
    "        if query_word in index:\n",
    "            founded_documents_indexes.update(index[query_word].keys())\n",
    "\n",
    "    documents_with_rsv = {}\n",
    "    for founded_document in founded_documents_indexes:\n",
    "        document_rsv = rsv(query_words, documents[founded_document][field_name], index, field_name, b, k1, rsv_function_type)\n",
    "        documents_with_rsv[founded_document] = document_rsv\n",
    "\n",
    "    return documents_with_rsv\n",
    "\n",
    "\n",
    "def rsv(query_words, document_words, inverse_index, field_name, b, k1, rsv_function_type):\n",
    "    if field_name == 'title':\n",
    "        L = L_title\n",
    "    else:\n",
    "        L = L_annotation\n",
    "\n",
    "    rsv = 0\n",
    "    for query_word in query_words:\n",
    "        if query_word in inverse_index:\n",
    "            Nt = len(inverse_index[query_word])\n",
    "            ftd = document_words.count(query_word)\n",
    "            Ld = len(document_words)\n",
    "            if rsv_function_type == 1:\n",
    "                rsv += math.log1p(1 + (N - Nt + 0.5) / (Nt + 0.5)) * ftd * (k1 + 1)/(k1 * ((1 - b) + b * Ld * L + ftd))\n",
    "            elif rsv_function_type == 2:\n",
    "                rsv += math.log1p(1 + (N + 0.5) / (Nt + 0.5)) * ftd * (k1 + 1)/(k1 * ((1 - b) + b * Ld * L + ftd))\n",
    "            elif rsv_function_type == 3:\n",
    "                 rsv += math.log1p(1 + (N + 0.5) / (Nt + 0.5)) * ftd * (k1 + 1)/(k1 * ((1 - b) + b * Ld * L + ftd))\n",
    "    return rsv\n"
   ]
  },
  {
   "cell_type": "code",
   "execution_count": 18,
   "metadata": {},
   "outputs": [],
   "source": [
    "title_index = create_inverted_index('title')\n",
    "annotation_index = create_inverted_index('annotation')"
   ]
  },
  {
   "cell_type": "code",
   "execution_count": 44,
   "metadata": {
    "collapsed": true
   },
   "outputs": [],
   "source": [
    "def answer_for_field(field_name, b=0.75, k1=1.2, rsv_function_type=1):\n",
    "    with open('answer', 'w') as result_file:\n",
    "        with open('cran.qry', 'r') as f:\n",
    "            line = f.readline()\n",
    "            query_number = 0\n",
    "            while line:\n",
    "                line = f.readline()  # skip .W line \n",
    "\n",
    "                query_words = []\n",
    "                while not line.startswith('.I') and line:\n",
    "                    query_words.extend(normalize_line(line))\n",
    "                    line = f.readline()\n",
    "\n",
    "                documents_with_rsv = search_in_index(title_index, query_words, field_name, b, k1, rsv_function_type)\n",
    "                top10 = [elem[0] for elem in\n",
    "                         sorted(documents_with_rsv.items(), key=operator.itemgetter(1), reverse=True)[:10]]\n",
    "\n",
    "                query_number += 1\n",
    "                for top in top10:\n",
    "                    result_file.write('%s %s\\n' % (query_number, top))\n"
   ]
  },
  {
   "cell_type": "code",
   "execution_count": 45,
   "metadata": {
    "collapsed": true
   },
   "outputs": [
    {
     "name": "stdout",
     "output_type": "stream",
     "text": [
      "mean precision: 0.239555555556\nmean recall: 0.351973187993\nmean F-measure: 0.285082114808\nMAP@10: 0.282763867193\n"
     ]
    }
   ],
   "source": [
    "answer_for_field('title')\n",
    "%run ./eval.py\n"
   ]
  },
  {
   "cell_type": "code",
   "execution_count": 46,
   "metadata": {},
   "outputs": [
    {
     "name": "stdout",
     "output_type": "stream",
     "text": [
      "mean precision: 0.276888888889\nmean recall: 0.409783052588\nmean F-measure: 0.330476220923\nMAP@10: 0.339283966014\n"
     ]
    }
   ],
   "source": [
    "answer_for_field('annotation')\n",
    "%run ./eval.py"
   ]
  },
  {
   "cell_type": "markdown",
   "metadata": {},
   "source": [
    "Поиск по индексу, построенному по аннатациям получился более точным. Так как аннотации больше по размеру и там больше информации."
   ]
  },
  {
   "cell_type": "code",
   "execution_count": 33,
   "metadata": {
    "collapsed": true
   },
   "outputs": [
    {
     "name": "stdout",
     "output_type": "stream",
     "text": [
      "mean precision: 0.250222222222\nmean recall: 0.373345427043\nmean F-measure: 0.299628508699\nMAP@10: 0.285003286582\n"
     ]
    },
    {
     "name": "stdout",
     "output_type": "stream",
     "text": [
      "mean precision: 0.257333333333\nmean recall: 0.382614154697\nmean F-measure: 0.307710797058\nMAP@10: 0.303300482209\n"
     ]
    },
    {
     "name": "stdout",
     "output_type": "stream",
     "text": [
      "mean precision: 0.266222222222\nmean recall: 0.392916869389\nmean F-measure: 0.317393410431\nMAP@10: 0.318745466952\n"
     ]
    },
    {
     "name": "stdout",
     "output_type": "stream",
     "text": [
      "mean precision: 0.268\nmean recall: 0.395306029611\nmean F-measure: 0.319436312068\nMAP@10: 0.325556248425\n"
     ]
    },
    {
     "name": "stdout",
     "output_type": "stream",
     "text": [
      "mean precision: 0.274666666667\nmean recall: 0.405992939663\nmean F-measure: 0.327660776078\nMAP@10: 0.331720813387\n"
     ]
    },
    {
     "name": "stdout",
     "output_type": "stream",
     "text": [
      "mean precision: 0.28\nmean recall: 0.412755761446\nmean F-measure: 0.333657602395\nMAP@10: 0.336177164693\n"
     ]
    },
    {
     "name": "stdout",
     "output_type": "stream",
     "text": [
      "mean precision: 0.279111111111\nmean recall: 0.412673433812\nmean F-measure: 0.332998883778\nMAP@10: 0.337086412754\n"
     ]
    },
    {
     "name": "stdout",
     "output_type": "stream",
     "text": [
      "mean precision: 0.278666666667\nmean recall: 0.411393010531\nmean F-measure: 0.332265520571\nMAP@10: 0.338781418493\n"
     ]
    },
    {
     "name": "stdout",
     "output_type": "stream",
     "text": [
      "mean precision: 0.276888888889\nmean recall: 0.410977705888\nmean F-measure: 0.330864040224\nMAP@10: 0.33803313877\n"
     ]
    },
    {
     "name": "stdout",
     "output_type": "stream",
     "text": [
      "mean precision: 0.276444444444\nmean recall: 0.408075589486\nmean F-measure: 0.329603880193\nMAP@10: 0.338182065172\n"
     ]
    },
    {
     "name": "stdout",
     "output_type": "stream",
     "text": [
      "mean precision: 0.275111111111\nmean recall: 0.405723497134\nmean F-measure: 0.327888860962\nMAP@10: 0.335661776686\n"
     ]
    },
    {
     "name": "stdout",
     "output_type": "stream",
     "text": [
      "mean precision: 0.252444444444\nmean recall: 0.376109327535\nmean F-measure: 0.302111655272\nMAP@10: 0.286929388875\n"
     ]
    },
    {
     "name": "stdout",
     "output_type": "stream",
     "text": [
      "mean precision: 0.256888888889\nmean recall: 0.382483875295\nmean F-measure: 0.307350776406\nMAP@10: 0.304352735086\n"
     ]
    },
    {
     "name": "stdout",
     "output_type": "stream",
     "text": [
      "mean precision: 0.267111111111\nmean recall: 0.394546499018\nmean F-measure: 0.318556764479\nMAP@10: 0.318410683492\n"
     ]
    },
    {
     "name": "stdout",
     "output_type": "stream",
     "text": [
      "mean precision: 0.268\nmean recall: 0.395768992574\nmean F-measure: 0.31958736005\nMAP@10: 0.325470133115\n"
     ]
    },
    {
     "name": "stdout",
     "output_type": "stream",
     "text": [
      "mean precision: 0.272888888889\nmean recall: 0.404310256334\nmean F-measure: 0.325847359364\nMAP@10: 0.330573444192\n"
     ]
    },
    {
     "name": "stdout",
     "output_type": "stream",
     "text": [
      "mean precision: 0.279111111111\nmean recall: 0.411644650335\nmean F-measure: 0.332663445318\nMAP@10: 0.336317209765\n"
     ]
    },
    {
     "name": "stdout",
     "output_type": "stream",
     "text": [
      "mean precision: 0.279111111111\nmean recall: 0.411501904192\nmean F-measure: 0.332616823484\nMAP@10: 0.337495113519\n"
     ]
    },
    {
     "name": "stdout",
     "output_type": "stream",
     "text": [
      "mean precision: 0.28\nmean recall: 0.412689306828\nmean F-measure: 0.333635887757\nMAP@10: 0.339244172895\n"
     ]
    },
    {
     "name": "stdout",
     "output_type": "stream",
     "text": [
      "mean precision: 0.276888888889\nmean recall: 0.411348076258\nmean F-measure: 0.330983999842\nMAP@10: 0.338891457406\n"
     ]
    },
    {
     "name": "stdout",
     "output_type": "stream",
     "text": [
      "mean precision: 0.276444444444\nmean recall: 0.408075589486\nmean F-measure: 0.329603880193\nMAP@10: 0.338399760645\n"
     ]
    },
    {
     "name": "stdout",
     "output_type": "stream",
     "text": [
      "mean precision: 0.275111111111\nmean recall: 0.405723497134\nmean F-measure: 0.327888860962\nMAP@10: 0.335661776686\n"
     ]
    },
    {
     "name": "stdout",
     "output_type": "stream",
     "text": [
      "mean precision: 0.252444444444\nmean recall: 0.376257475683\nmean F-measure: 0.302159437966\nMAP@10: 0.286434684079\n"
     ]
    },
    {
     "name": "stdout",
     "output_type": "stream",
     "text": [
      "mean precision: 0.257333333333\nmean recall: 0.382547367358\nmean F-measure: 0.307689196107\nMAP@10: 0.303537438762\n"
     ]
    },
    {
     "name": "stdout",
     "output_type": "stream",
     "text": [
      "mean precision: 0.266222222222\nmean recall: 0.393519995892\nmean F-measure: 0.317590006881\nMAP@10: 0.317755232916\n"
     ]
    },
    {
     "name": "stdout",
     "output_type": "stream",
     "text": [
      "mean precision: 0.266666666667\nmean recall: 0.394097034902\nmean F-measure: 0.318094176151\nMAP@10: 0.325232197447\n"
     ]
    },
    {
     "name": "stdout",
     "output_type": "stream",
     "text": [
      "mean precision: 0.272444444444\nmean recall: 0.4039434133\nmean F-measure: 0.32541133778\nMAP@10: 0.330332397609\n"
     ]
    },
    {
     "name": "stdout",
     "output_type": "stream",
     "text": [
      "mean precision: 0.277333333333\nmean recall: 0.409713433403\nmean F-measure: 0.330769891362\nMAP@10: 0.335167454719\n"
     ]
    },
    {
     "name": "stdout",
     "output_type": "stream",
     "text": [
      "mean precision: 0.278666666667\nmean recall: 0.410203429246\nmean F-measure: 0.331876860272\nMAP@10: 0.337627760981\n"
     ]
    },
    {
     "name": "stdout",
     "output_type": "stream",
     "text": [
      "mean precision: 0.28\nmean recall: 0.412596714235\nmean F-measure: 0.333605625356\nMAP@10: 0.339213367487\n"
     ]
    },
    {
     "name": "stdout",
     "output_type": "stream",
     "text": [
      "mean precision: 0.277333333333\nmean recall: 0.411665536576\nmean F-measure: 0.331404245967\nMAP@10: 0.339813251309\n"
     ]
    },
    {
     "name": "stdout",
     "output_type": "stream",
     "text": [
      "mean precision: 0.276888888889\nmean recall: 0.409186700597\nmean F-measure: 0.330282122299\nMAP@10: 0.338668543714\n"
     ]
    },
    {
     "name": "stdout",
     "output_type": "stream",
     "text": [
      "mean precision: 0.275111111111\nmean recall: 0.405723497134\nmean F-measure: 0.327888860962\nMAP@10: 0.335661776686\n"
     ]
    },
    {
     "name": "stdout",
     "output_type": "stream",
     "text": [
      "mean precision: 0.252\nmean recall: 0.375779681872\nmean F-measure: 0.301686985311\nMAP@10: 0.285388020352\n"
     ]
    },
    {
     "name": "stdout",
     "output_type": "stream",
     "text": [
      "mean precision: 0.257777777778\nmean recall: 0.382852321663\nmean F-measure: 0.308105475473\nMAP@10: 0.301819186893\n"
     ]
    },
    {
     "name": "stdout",
     "output_type": "stream",
     "text": [
      "mean precision: 0.264888888889\nmean recall: 0.392358557983\nmean F-measure: 0.316262689083\nMAP@10: 0.31660600977\n"
     ]
    },
    {
     "name": "stdout",
     "output_type": "stream",
     "text": [
      "mean precision: 0.267111111111\nmean recall: 0.394985923791\nmean F-measure: 0.318699898702\nMAP@10: 0.325390178047\n"
     ]
    },
    {
     "name": "stdout",
     "output_type": "stream",
     "text": [
      "mean precision: 0.272\nmean recall: 0.403409021766\nmean F-measure: 0.324920900918\nMAP@10: 0.330659646286\n"
     ]
    },
    {
     "name": "stdout",
     "output_type": "stream",
     "text": [
      "mean precision: 0.277777777778\nmean recall: 0.40991360977\nmean F-measure: 0.331151134548\nMAP@10: 0.335328964755\n"
     ]
    },
    {
     "name": "stdout",
     "output_type": "stream",
     "text": [
      "mean precision: 0.279555555556\nmean recall: 0.411103942314\nmean F-measure: 0.33280188382\nMAP@10: 0.338806177039\n"
     ]
    },
    {
     "name": "stdout",
     "output_type": "stream",
     "text": [
      "mean precision: 0.279555555556\nmean recall: 0.411527748718\nmean F-measure: 0.332940667812\nMAP@10: 0.339719981244\n"
     ]
    },
    {
     "name": "stdout",
     "output_type": "stream",
     "text": [
      "mean precision: 0.277777777778\nmean recall: 0.412007416918\nmean F-measure: 0.331832302518\nMAP@10: 0.340407196047\n"
     ]
    },
    {
     "name": "stdout",
     "output_type": "stream",
     "text": [
      "mean precision: 0.276888888889\nmean recall: 0.409186700597\nmean F-measure: 0.330282122299\nMAP@10: 0.338780713026\n"
     ]
    },
    {
     "name": "stdout",
     "output_type": "stream",
     "text": [
      "mean precision: 0.275111111111\nmean recall: 0.405723497134\nmean F-measure: 0.327888860962\nMAP@10: 0.335661776686\n"
     ]
    },
    {
     "name": "stdout",
     "output_type": "stream",
     "text": [
      "mean precision: 0.252444444444\nmean recall: 0.377175896768\nmean F-measure: 0.30245515745\nMAP@10: 0.285864566362\n"
     ]
    },
    {
     "name": "stdout",
     "output_type": "stream",
     "text": [
      "mean precision: 0.259555555556\nmean recall: 0.384827630305\nmean F-measure: 0.310014760064\nMAP@10: 0.302317524005\n"
     ]
    },
    {
     "name": "stdout",
     "output_type": "stream",
     "text": [
      "mean precision: 0.264444444444\nmean recall: 0.391284483909\nmean F-measure: 0.315596898331\nMAP@10: 0.315579773103\n"
     ]
    },
    {
     "name": "stdout",
     "output_type": "stream",
     "text": [
      "mean precision: 0.269333333333\nmean recall: 0.397562372034\nmean F-measure: 0.321120073217\nMAP@10: 0.325871285098\n"
     ]
    },
    {
     "name": "stdout",
     "output_type": "stream",
     "text": [
      "mean precision: 0.272444444444\nmean recall: 0.403242355099\nmean F-measure: 0.325183619054\nMAP@10: 0.330719375857\n"
     ]
    },
    {
     "name": "stdout",
     "output_type": "stream",
     "text": [
      "mean precision: 0.279111111111\nmean recall: 0.412252234109\nmean F-measure: 0.33286167083\nMAP@10: 0.335692739565\n"
     ]
    },
    {
     "name": "stdout",
     "output_type": "stream",
     "text": [
      "mean precision: 0.280444444444\nmean recall: 0.413474312684\nmean F-measure: 0.334207924837\nMAP@10: 0.339776400437\n"
     ]
    },
    {
     "name": "stdout",
     "output_type": "stream",
     "text": [
      "mean precision: 0.279111111111\nmean recall: 0.411607113797\nmean F-measure: 0.332651187504\nMAP@10: 0.339384296352\n"
     ]
    },
    {
     "name": "stdout",
     "output_type": "stream",
     "text": [
      "mean precision: 0.277777777778\nmean recall: 0.412007416918\nmean F-measure: 0.331832302518\nMAP@10: 0.339956284818\n"
     ]
    },
    {
     "name": "stdout",
     "output_type": "stream",
     "text": [
      "mean precision: 0.276888888889\nmean recall: 0.409186700597\nmean F-measure: 0.330282122299\nMAP@10: 0.339059666583\n"
     ]
    },
    {
     "name": "stdout",
     "output_type": "stream",
     "text": [
      "mean precision: 0.275111111111\nmean recall: 0.405723497134\nmean F-measure: 0.327888860962\nMAP@10: 0.335661776686\n"
     ]
    },
    {
     "name": "stdout",
     "output_type": "stream",
     "text": [
      "mean precision: 0.252888888889\nmean recall: 0.377200588126\nmean F-measure: 0.302781878127\nMAP@10: 0.2857170229\n"
     ]
    },
    {
     "name": "stdout",
     "output_type": "stream",
     "text": [
      "mean precision: 0.259555555556\nmean recall: 0.385420222898\nmean F-measure: 0.310206874176\nMAP@10: 0.302125006999\n"
     ]
    },
    {
     "name": "stdout",
     "output_type": "stream",
     "text": [
      "mean precision: 0.265333333333\nmean recall: 0.392667199958\nmean F-measure: 0.3166796736\nMAP@10: 0.31530505445\n"
     ]
    },
    {
     "name": "stdout",
     "output_type": "stream",
     "text": [
      "mean precision: 0.269777777778\nmean recall: 0.397255253227\nmean F-measure: 0.32133532957\nMAP@10: 0.32576318902\n"
     ]
    },
    {
     "name": "stdout",
     "output_type": "stream",
     "text": [
      "mean precision: 0.271111111111\nmean recall: 0.400510161367\nmean F-measure: 0.323345192623\nMAP@10: 0.329835702388\n"
     ]
    },
    {
     "name": "stdout",
     "output_type": "stream",
     "text": [
      "mean precision: 0.278666666667\nmean recall: 0.41180032001\nmean F-measure: 0.332398289053\nMAP@10: 0.335276249265\n"
     ]
    },
    {
     "name": "stdout",
     "output_type": "stream",
     "text": [
      "mean precision: 0.279555555556\nmean recall: 0.412585423795\nmean F-measure: 0.333286283587\nMAP@10: 0.339778273285\n"
     ]
    },
    {
     "name": "stdout",
     "output_type": "stream",
     "text": [
      "mean precision: 0.279555555556\nmean recall: 0.411977484168\nmean F-measure: 0.333087756758\nMAP@10: 0.339429471459\n"
     ]
    },
    {
     "name": "stdout",
     "output_type": "stream",
     "text": [
      "mean precision: 0.278222222222\nmean recall: 0.411902710708\nmean F-measure: 0.33211519261\nMAP@10: 0.340239236024\n"
     ]
    },
    {
     "name": "stdout",
     "output_type": "stream",
     "text": [
      "mean precision: 0.276888888889\nmean recall: 0.409186700597\nmean F-measure: 0.330282122299\nMAP@10: 0.338962135718\n"
     ]
    },
    {
     "name": "stdout",
     "output_type": "stream",
     "text": [
      "mean precision: 0.275111111111\nmean recall: 0.405723497134\nmean F-measure: 0.327888860962\nMAP@10: 0.335661776686\n"
     ]
    },
    {
     "name": "stdout",
     "output_type": "stream",
     "text": [
      "mean precision: 0.253777777778\nmean recall: 0.377245321171\nmean F-measure: 0.303432566711\nMAP@10: 0.285825387727\n"
     ]
    },
    {
     "name": "stdout",
     "output_type": "stream",
     "text": [
      "mean precision: 0.261333333333\nmean recall: 0.387286825431\nmean F-measure: 0.312080824743\nMAP@10: 0.302374246942\n"
     ]
    },
    {
     "name": "stdout",
     "output_type": "stream",
     "text": [
      "mean precision: 0.266666666667\nmean recall: 0.394169845461\nmean F-measure: 0.318117891069\nMAP@10: 0.315489400493\n"
     ]
    },
    {
     "name": "stdout",
     "output_type": "stream",
     "text": [
      "mean precision: 0.269777777778\nmean recall: 0.397006575978\nmean F-measure: 0.321253944329\nMAP@10: 0.324488023152\n"
     ]
    },
    {
     "name": "stdout",
     "output_type": "stream",
     "text": [
      "mean precision: 0.270222222222\nmean recall: 0.39847312433\nmean F-measure: 0.322048878334\nMAP@10: 0.329017360236\n"
     ]
    },
    {
     "name": "stdout",
     "output_type": "stream",
     "text": [
      "mean precision: 0.278666666667\nmean recall: 0.411164322021\nmean F-measure: 0.33219090748\nMAP@10: 0.334877941547\n"
     ]
    },
    {
     "name": "stdout",
     "output_type": "stream",
     "text": [
      "mean precision: 0.280444444444\nmean recall: 0.413775899986\nmean F-measure: 0.33430640092\nMAP@10: 0.340430231516\n"
     ]
    },
    {
     "name": "stdout",
     "output_type": "stream",
     "text": [
      "mean precision: 0.279555555556\nmean recall: 0.411977484168\nmean F-measure: 0.333087756758\nMAP@10: 0.339259890541\n"
     ]
    },
    {
     "name": "stdout",
     "output_type": "stream",
     "text": [
      "mean precision: 0.277777777778\nmean recall: 0.410055967413\nmean F-measure: 0.331197578452\nMAP@10: 0.339871746312\n"
     ]
    },
    {
     "name": "stdout",
     "output_type": "stream",
     "text": [
      "mean precision: 0.276888888889\nmean recall: 0.409186700597\nmean F-measure: 0.330282122299\nMAP@10: 0.339091059881\n"
     ]
    },
    {
     "name": "stdout",
     "output_type": "stream",
     "text": [
      "mean precision: 0.275111111111\nmean recall: 0.405723497134\nmean F-measure: 0.327888860962\nMAP@10: 0.335661776686\n"
     ]
    },
    {
     "name": "stdout",
     "output_type": "stream",
     "text": [
      "mean precision: 0.253333333333\nmean recall: 0.375867896127\nmean F-measure: 0.302669043099\nMAP@10: 0.285042990118\n"
     ]
    },
    {
     "name": "stdout",
     "output_type": "stream",
     "text": [
      "mean precision: 0.260888888889\nmean recall: 0.38678610393\nmean F-measure: 0.311601337124\nMAP@10: 0.301805421881\n"
     ]
    },
    {
     "name": "stdout",
     "output_type": "stream",
     "text": [
      "mean precision: 0.266666666667\nmean recall: 0.394209528001\nmean F-measure: 0.318130813754\nMAP@10: 0.314572459478\n"
     ]
    },
    {
     "name": "stdout",
     "output_type": "stream",
     "text": [
      "mean precision: 0.268888888889\nmean recall: 0.395708101033\nmean F-measure: 0.320198596216\nMAP@10: 0.32337829778\n"
     ]
    },
    {
     "name": "stdout",
     "output_type": "stream",
     "text": [
      "mean precision: 0.272\nmean recall: 0.400332672189\nmean F-measure: 0.323918474707\nMAP@10: 0.33004425618\n"
     ]
    },
    {
     "name": "stdout",
     "output_type": "stream",
     "text": [
      "mean precision: 0.277777777778\nmean recall: 0.410956065499\nmean F-measure: 0.33149078923\nMAP@10: 0.335697579855\n"
     ]
    },
    {
     "name": "stdout",
     "output_type": "stream",
     "text": [
      "mean precision: 0.281333333333\nmean recall: 0.415148034024\nmean F-measure: 0.335385799858\nMAP@10: 0.341433053386\n"
     ]
    },
    {
     "name": "stdout",
     "output_type": "stream",
     "text": [
      "mean precision: 0.280444444444\nmean recall: 0.412763808954\nmean F-measure: 0.333975588206\nMAP@10: 0.339606398197\n"
     ]
    },
    {
     "name": "stdout",
     "output_type": "stream",
     "text": [
      "mean precision: 0.277777777778\nmean recall: 0.40996337482\nmean F-measure: 0.331167372485\nMAP@10: 0.340276655189\n"
     ]
    },
    {
     "name": "stdout",
     "output_type": "stream",
     "text": [
      "mean precision: 0.276888888889\nmean recall: 0.409186700597\nmean F-measure: 0.330282122299\nMAP@10: 0.338817250357\n"
     ]
    },
    {
     "name": "stdout",
     "output_type": "stream",
     "text": [
      "mean precision: 0.275111111111\nmean recall: 0.405723497134\nmean F-measure: 0.327888860962\nMAP@10: 0.335661776686\n"
     ]
    },
    {
     "name": "stdout",
     "output_type": "stream",
     "text": [
      "mean precision: 0.254666666667\nmean recall: 0.377326988971\nmean F-measure: 0.304093579635\nMAP@10: 0.286574990902\n"
     ]
    },
    {
     "name": "stdout",
     "output_type": "stream",
     "text": [
      "mean precision: 0.260888888889\nmean recall: 0.385600918745\nmean F-measure: 0.311216028646\nMAP@10: 0.301814427088\n"
     ]
    },
    {
     "name": "stdout",
     "output_type": "stream",
     "text": [
      "mean precision: 0.265777777778\nmean recall: 0.39328889308\nmean F-measure: 0.317198403893\nMAP@10: 0.313513993869\n"
     ]
    },
    {
     "name": "stdout",
     "output_type": "stream",
     "text": [
      "mean precision: 0.269333333333\nmean recall: 0.396011452003\nmean F-measure: 0.320612971671\nMAP@10: 0.323453858375\n"
     ]
    },
    {
     "name": "stdout",
     "output_type": "stream",
     "text": [
      "mean precision: 0.272\nmean recall: 0.400074709274\nmean F-measure: 0.323834000658\nMAP@10: 0.329720461353\n"
     ]
    },
    {
     "name": "stdout",
     "output_type": "stream",
     "text": [
      "mean precision: 0.277777777778\nmean recall: 0.409588987674\nmean F-measure: 0.33104515527\nMAP@10: 0.335962243498\n"
     ]
    },
    {
     "name": "stdout",
     "output_type": "stream",
     "text": [
      "mean precision: 0.281333333333\nmean recall: 0.414585189003\nmean F-measure: 0.335201979626\nMAP@10: 0.341968552112\n"
     ]
    },
    {
     "name": "stdout",
     "output_type": "stream",
     "text": [
      "mean precision: 0.279555555556\nmean recall: 0.411635061158\nmean F-measure: 0.332975782442\nMAP@10: 0.339820703508\n"
     ]
    },
    {
     "name": "stdout",
     "output_type": "stream",
     "text": [
      "mean precision: 0.277777777778\nmean recall: 0.410280835138\nmean F-measure: 0.331270901955\nMAP@10: 0.340199386915\n"
     ]
    },
    {
     "name": "stdout",
     "output_type": "stream",
     "text": [
      "mean precision: 0.276888888889\nmean recall: 0.409186700597\nmean F-measure: 0.330282122299\nMAP@10: 0.339124598975\n"
     ]
    },
    {
     "name": "stdout",
     "output_type": "stream",
     "text": [
      "mean precision: 0.275111111111\nmean recall: 0.405723497134\nmean F-measure: 0.327888860962\nMAP@10: 0.335661776686\n(2.0000000000000009, 0.60000000000000009)\n"
     ]
    }
   ],
   "source": [
    "def eval():\n",
    "    groundtruth_file = 'qrel_clean'\n",
    "    answer_file = 'answer'\n",
    "    \n",
    "    q2reld = {} \n",
    "    for line in open(groundtruth_file):\n",
    "        qid, did = [int(x) for x in line.split()]\n",
    "        if qid not in q2reld.keys():\n",
    "            q2reld[qid] = set()\n",
    "        q2reld[qid].add(did)        \n",
    "    \n",
    "    q2retrd = {}\n",
    "    for line in open(answer_file):\n",
    "        qid, did = [int(x) for x in line.split()]\n",
    "        if qid not in q2retrd.keys():\n",
    "            q2retrd[qid] = []\n",
    "        q2retrd[qid].append(did)               \n",
    "    \n",
    "    N = len(q2retrd.keys())\n",
    "    precision = sum([len(q2reld[q].intersection(q2retrd[q]))*1.0/len(q2retrd[q]) for q in q2retrd.keys()]) / N\n",
    "    recall = sum([len(q2reld[q].intersection(q2retrd[q]))*1.0/len(q2reld[q]) for q in q2retrd.keys()]) / N\n",
    "    print(\"mean precision: {}\\nmean recall: {}\\nmean F-measure: {}\"\\\n",
    "          .format(precision, recall, 2*precision*recall/(precision+recall)))\n",
    "\n",
    "    # MAP@10\n",
    "    import numpy as np\n",
    "    \n",
    "    MAP = 0.0\n",
    "    for q in q2retrd.keys():\n",
    "        n_results = min(10, len(q2retrd[q]))\n",
    "        avep = np.zeros(n_results)\n",
    "        for i in range(n_results):\n",
    "            avep[i:] += q2retrd[q][i] in q2reld[q]\n",
    "            avep[i] *= (q2retrd[q][i] in q2reld[q]) / (i+1.0)\n",
    "        MAP += sum(avep) / min(n_results, len(q2reld[q]))\n",
    "    print(\"MAP@10: {}\".format(MAP/N))\n",
    "    return MAP/N\n",
    "\n",
    "\n",
    "best_result = 0\n",
    "for k in np.arange(1.2, 2.1, 0.1):\n",
    "    for b in np.arange(0, 1.1, 0.1):\n",
    "        answer_for_field('annotation', b, k)\n",
    "        eval_result = eval()\n",
    "        if eval_result > best_result:\n",
    "            best_result = eval_result\n",
    "            best_params = (k, b)\n",
    "            \n",
    "print best_params"
   ]
  },
  {
   "cell_type": "code",
   "execution_count": 37,
   "metadata": {},
   "outputs": [
    {
     "name": "stdout",
     "output_type": "stream",
     "text": [
      "0.341968552112\n"
     ]
    },
    {
     "name": "stdout",
     "output_type": "stream",
     "text": [
      "mean precision: 0.281333333333\nmean recall: 0.414585189003\nmean F-measure: 0.335201979626\nMAP@10: 0.341968552112\n"
     ]
    }
   ],
   "source": [
    "print best_result\n",
    "\n",
    "answer_for_field('annotation', 0.6, 2)\n",
    "eval_result = eval()"
   ]
  },
  {
   "cell_type": "markdown",
   "metadata": {},
   "source": [
    "7. Попробуйте заменить функцию вычисления IDF-составляющей в формуле BM25 выше на один из других вариантов, представленных на лекции\n",
    "\n",
    "Для этого убрал Nt из числителя под лагорифмом (так было сказано на лекции)"
   ]
  },
  {
   "cell_type": "code",
   "execution_count": null,
   "metadata": {},
   "outputs": [],
   "source": [
    "на сколько важно учитывать длину жокумента"
   ]
  }
 ],
 "metadata": {
  "kernelspec": {
   "display_name": "Python 2",
   "language": "python",
   "name": "python2"
  },
  "language_info": {
   "codemirror_mode": {
    "name": "ipython",
    "version": 2
   },
   "file_extension": ".py",
   "mimetype": "text/x-python",
   "name": "python",
   "nbconvert_exporter": "python",
   "pygments_lexer": "ipython2",
   "version": "2.7.6"
  }
 },
 "nbformat": 4,
 "nbformat_minor": 0
}
