{
 "cells": [
  {
   "cell_type": "markdown",
   "metadata": {
    "collapsed": true
   },
   "source": [
    "Код кравлера находитяся тут task2/wikipedia/wikipedia/spiders/WikiSpider.py\n",
    "\n",
    "Был скачае 75261 айтем (есть в task2/wikipedia/scrapyResult.json.zip)"
   ]
  },
  {
   "cell_type": "code",
   "execution_count": 158,
   "metadata": {
    "collapsed": true
   },
   "outputs": [],
   "source": [
    "import json\n",
    "import networkx as nx\n",
    "import operator\n",
    "\n",
    "wikipediaG = nx.DiGraph()\n",
    "\n",
    "all_items_dict = {}\n",
    "with open('task2/wikipedia/scrapyResult.json') as json_data:\n",
    "    all_items = json.load(json_data)\n",
    "    for item in all_items:\n",
    "        all_items_dict[item['url']] = item\n",
    "        for link in item['links']:\n",
    "            wikipediaG.add_edge(item['url'], link)\n"
   ]
  },
  {
   "cell_type": "code",
   "execution_count": 159,
   "metadata": {
    "collapsed": false
   },
   "outputs": [],
   "source": [
    "pagerank = nx.pagerank(wikipediaG)\n",
    "top10 = sorted(pagerank.items(), key=operator.itemgetter(1), reverse=True)[:10]"
   ]
  },
  {
   "cell_type": "code",
   "execution_count": 145,
   "metadata": {},
   "outputs": [],
   "source": [
    "def print_top10(top10):\n",
    "    for top in top10:\n",
    "        if top[0] in all_items_dict:\n",
    "            top_item = all_items_dict[top[0]]\n",
    "            \n",
    "            print \"Title: \" + top_item['title']\n",
    "            print \"Pagerank: \", top[1]\n",
    "            print \"Url: \" + top[0]\n",
    "            print \"Snippet: \" + top_item['snippet']       "
   ]
  },
  {
   "cell_type": "code",
   "execution_count": 160,
   "metadata": {},
   "outputs": [
    {
     "name": "stdout",
     "output_type": "stream",
     "text": [
      "Title: Wayback Machine\nPagerank:  6.69074962082e-05\nUrl: https://en.wikipedia.org/wiki/Wayback_Machine\nSnippet: The Wayback Machine is a digital archive of the World Wide Web and other information on the Internet created by the Internet Archive, a nonprofit organization, based in San Francisco, California, United States.\n"
     ]
    }
   ],
   "source": [
    "print_top10(top10)"
   ]
  },
  {
   "cell_type": "markdown",
   "metadata": {},
   "source": [
    "У меня получилось, что из топ10 только одна ссылка была просмотрена краулером и информация только про неё была выведена.\n",
    "Про остальные ссылки из топ10 можно получить урл и page rank"
   ]
  },
  {
   "cell_type": "code",
   "execution_count": 163,
   "metadata": {
    "collapsed": false
   },
   "outputs": [
    {
     "name": "stdout",
     "output_type": "stream",
     "text": [
      "[(u'https://en.wikipedia.org/wiki/Geographic_coordinate_system', 0.0002782097026598651), (u'https://en.wikipedia.org/wiki/International_Standard_Book_Number', 0.0002631613330277916), (u'https://en.wikipedia.org/wiki/United_States', 0.00016757430367138627), (u'https://en.wikipedia.org/wiki/Virtual_International_Authority_File', 0.00010014253892695149), (u'https://en.wikipedia.org/wiki/Digital_object_identifier', 7.920919169993286e-05), (u'https://en.wikipedia.org/wiki/United_Kingdom', 7.88090825072795e-05), (u'https://en.wikipedia.org/wiki/Library_of_Congress_Control_Number', 6.898637415938032e-05), (u'https://en.wikipedia.org/wiki/Wayback_Machine', 6.690749620817106e-05), (u'https://en.wikipedia.org/wiki/Time_zone', 6.623838011842953e-05), (u'https://en.wikipedia.org/wiki/France', 6.160332321123563e-05)]\n"
     ]
    }
   ],
   "source": [
    "print top10"
   ]
  },
  {
   "cell_type": "markdown",
   "metadata": {},
   "source": [
    "alpha = 0.95\n"
   ]
  },
  {
   "cell_type": "code",
   "execution_count": 189,
   "metadata": {
    "collapsed": false
   },
   "outputs": [
    {
     "name": "stdout",
     "output_type": "stream",
     "text": [
      "[(u'https://en.wikipedia.org/wiki/Geographic_coordinate_system', 0.00031082848180229454), (u'https://en.wikipedia.org/wiki/International_Standard_Book_Number', 0.000294009715742916), (u'https://en.wikipedia.org/wiki/United_States', 0.0001871771535210502), (u'https://en.wikipedia.org/wiki/Virtual_International_Authority_File', 0.00011181223998315387), (u'https://en.wikipedia.org/wiki/Digital_object_identifier', 8.841614602354595e-05), (u'https://en.wikipedia.org/wiki/United_Kingdom', 8.796896516116863e-05), (u'https://en.wikipedia.org/wiki/Library_of_Congress_Control_Number', 7.699064406645706e-05), (u'https://en.wikipedia.org/wiki/Wayback_Machine', 7.466719223863532e-05), (u'https://en.wikipedia.org/wiki/Time_zone', 7.391935660892464e-05), (u'https://en.wikipedia.org/wiki/France', 6.873899888911918e-05)]\n"
     ]
    }
   ],
   "source": [
    "pagerank = nx.pagerank(wikipediaG, 0.95)\n",
    "top10 = sorted(pagerank.items(), key=operator.itemgetter(1), reverse=True)[:10]\n",
    "print top10"
   ]
  },
  {
   "cell_type": "markdown",
   "metadata": {
    "collapsed": false
   },
   "source": [
    "alpha = 0.5"
   ]
  },
  {
   "cell_type": "code",
   "execution_count": 165,
   "metadata": {
    "collapsed": false
   },
   "outputs": [
    {
     "name": "stdout",
     "output_type": "stream",
     "text": [
      "[(u'https://en.wikipedia.org/wiki/Geographic_coordinate_system', 0.00016404397566135962), (u'https://en.wikipedia.org/wiki/International_Standard_Book_Number', 0.00015519199352484995), (u'https://en.wikipedia.org/wiki/United_States', 9.896432919755542e-05), (u'https://en.wikipedia.org/wiki/Virtual_International_Authority_File', 5.929858523024112e-05), (u'https://en.wikipedia.org/wiki/Digital_object_identifier', 4.698485156728961e-05), (u'https://en.wikipedia.org/wiki/United_Kingdom', 4.674949321867007e-05), (u'https://en.wikipedia.org/wiki/Library_of_Congress_Control_Number', 4.097142948461124e-05), (u'https://en.wikipedia.org/wiki/Wayback_Machine', 3.974856010154736e-05), (u'https://en.wikipedia.org/wiki/Time_zone', 3.9354962401699407e-05), (u'https://en.wikipedia.org/wiki/France', 3.6628458338644045e-05)]\n"
     ]
    }
   ],
   "source": [
    "pagerank = nx.pagerank(wikipediaG, 0.5)\n",
    "top10 = sorted(pagerank.items(), key=operator.itemgetter(1), reverse=True)[:10]\n",
    "print top10"
   ]
  },
  {
   "cell_type": "markdown",
   "metadata": {},
   "source": [
    "alpha = 0.3"
   ]
  },
  {
   "cell_type": "code",
   "execution_count": 166,
   "metadata": {
    "collapsed": false
   },
   "outputs": [
    {
     "name": "stdout",
     "output_type": "stream",
     "text": [
      "[(u'https://en.wikipedia.org/wiki/Geographic_coordinate_system', 9.880641737651023e-05), (u'https://en.wikipedia.org/wiki/International_Standard_Book_Number', 9.349522809460322e-05), (u'https://en.wikipedia.org/wiki/United_States', 5.9758629498224624e-05), (u'https://en.wikipedia.org/wiki/Virtual_International_Authority_File', 3.595918311783577e-05), (u'https://en.wikipedia.org/wiki/Digital_object_identifier', 2.8570942920064852e-05), (u'https://en.wikipedia.org/wiki/United_Kingdom', 2.8429727910893272e-05), (u'https://en.wikipedia.org/wiki/Library_of_Congress_Control_Number', 2.4962889670457868e-05), (u'https://en.wikipedia.org/wiki/Wayback_Machine', 2.4229168040619425e-05), (u'https://en.wikipedia.org/wiki/Time_zone', 2.3993009420710823e-05), (u'https://en.wikipedia.org/wiki/France', 2.2357106982877502e-05)]\n"
     ]
    }
   ],
   "source": [
    "pagerank = nx.pagerank(wikipediaG, 0.3)\n",
    "top10 = sorted(pagerank.items(), key=operator.itemgetter(1), reverse=True)[:10]\n",
    "print top10"
   ]
  },
  {
   "cell_type": "markdown",
   "metadata": {},
   "source": [
    "При варьировании параметра альфа результат топ10 не изменяется"
   ]
  },
  {
   "cell_type": "markdown",
   "metadata": {},
   "source": [
    "Применим к полученному графу алгоритм HITS"
   ]
  },
  {
   "cell_type": "code",
   "execution_count": 167,
   "metadata": {},
   "outputs": [],
   "source": [
    "h, a = nx.hits(wikipediaG)\n"
   ]
  },
  {
   "cell_type": "code",
   "execution_count": 170,
   "metadata": {},
   "outputs": [
    {
     "name": "stdout",
     "output_type": "stream",
     "text": [
      "Title: Tavares, Florida\nPagerank:  0.000219373717241\nUrl: https://en.wikipedia.org/wiki/Tavares,_Florida\nSnippet: Tavares (pronounced tuh-vair-ees) is a city located in the central portion of the U.S. state of Florida. It is the county seat of Lake County.[6] The population in 2015 was 14,583, with a total of 5,000 households and an average household income of $40,00\nTitle: Ballston, New York\nPagerank:  0.000218381815167\nUrl: https://en.wikipedia.org/wiki/Ballston,_New_York\nSnippet: Ballston is a town in Saratoga County, New York, USA. The population was 8,729 at the 2000 census. The name is derived from an early settler, Eliphalet Ball, a Presbyterian minister who located there from Westchester County, New York in 1770.[3]\nTitle: Palmetto, Florida\nPagerank:  0.000218081091852\nUrl: https://en.wikipedia.org/wiki/Palmetto,_Florida\nSnippet: Palmetto is a city in Manatee County, Florida, United States. As of the 2010 census, the population was listed as 12,606[5] It is part of the Bradenton–Sarasota–Venice Metropolitan Statistical Area.\nTitle: Andrew, Iowa\nPagerank:  0.000217721953151\nUrl: https://en.wikipedia.org/wiki/Andrew,_Iowa\nSnippet: Andrew is a city in Jackson County, Iowa, United States. The population was 434 at the 2010 census.\nTitle: Storm Lake, Iowa\nPagerank:  0.000217717761262\nUrl: https://en.wikipedia.org/wiki/Storm_Lake,_Iowa\nSnippet: Storm Lake is a city in Buena Vista County, Iowa, United States. The population was 10,600 in the 2010 census, an increase from 10,076 in the 2000 census.[4][5] It is the county seat of Buena Vista County.[6] Storm Lake is home to Buena Vista University, \nTitle: Rawlins, Wyoming\nPagerank:  0.000217646968495\nUrl: https://en.wikipedia.org/wiki/Rawlins,_WY\nSnippet: Rawlins is a city in Carbon County, Wyoming, United States. The population was 9,259 at the 2010 census. It is the county seat of Carbon County.[6] It was named for Union General John Aaron Rawlins, who camped in the locality in 1867.[7]\nTitle: Monroe, Iowa\nPagerank:  0.000217132551565\nUrl: https://en.wikipedia.org/wiki/Monroe,_Iowa\nSnippet: Monroe is a city in Jasper County, Iowa, United States. The population was 1,830 at the 2010 census.\nTitle: Indianola, Iowa\nPagerank:  0.000217008111006\nUrl: https://en.wikipedia.org/wiki/Indianola,_Iowa\nSnippet: Indianola is a city in Warren County, Iowa, United States, 18 miles south of Des Moines, Iowa. The population was 14,782 at the 2010 census. It is the county seat of Warren County.[5]\nTitle: Pulaski, Virginia\nPagerank:  0.000213601743299\nUrl: https://en.wikipedia.org/wiki/Pulaski,_Virginia\nSnippet: Pulaski is a town in Pulaski County, Virginia, United States. The population was 9,086 at the 2010 census. It is the county seat of Pulaski County.[3]\nTitle: Tappahannock, Virginia\nPagerank:  0.000213589743057\nUrl: https://en.wikipedia.org/wiki/Tappahannock\nSnippet: Tappahannock is the oldest town in Essex County, Virginia, United States. The population was 2,375 at the 2010 census,[3] up from 2,068 at the 2000 census. Located on the Rappahannock River, Tappahannock is the county seat of Essex County.[4] Its name com\n"
     ]
    }
   ],
   "source": [
    "top10_h = sorted(h.items(), key=operator.itemgetter(1), reverse=True)[:10]\n",
    "print_top10(top10_h)"
   ]
  },
  {
   "cell_type": "code",
   "execution_count": 172,
   "metadata": {},
   "outputs": [
    {
     "name": "stdout",
     "output_type": "stream",
     "text": [
      "[(u'https://en.wikipedia.org/wiki/Geographic_coordinate_system', 0.013744516496159074), (u'https://en.wikipedia.org/wiki/Time_zone', 0.007294649002327904), (u'https://en.wikipedia.org/wiki/Daylight_saving_time', 0.00589255891995535), (u'https://en.wikipedia.org/wiki/United_States', 0.004593936545661627), (u'https://en.wikipedia.org/wiki/List_of_sovereign_states', 0.004115100801010374), (u'https://en.wikipedia.org/wiki/U.S._state', 0.0031686763281209176), (u'https://en.wikipedia.org/wiki/International_Standard_Book_Number', 0.0031396722545172424), (u'https://en.wikipedia.org/wiki/Telephone_numbering_plan', 0.003002861492615659), (u'https://en.wikipedia.org/wiki/2010_United_States_Census', 0.0026699704803713423), (u'https://en.wikipedia.org/wiki/Geographic_Names_Information_System', 0.0026188211768146197)]\n"
     ]
    }
   ],
   "source": [
    "top10_a = sorted(a.items(), key=operator.itemgetter(1), reverse=True)[:10]\n",
    "print top10_a"
   ]
  },
  {
   "cell_type": "code",
   "execution_count": 179,
   "metadata": {},
   "outputs": [
    {
     "name": "stdout",
     "output_type": "stream",
     "text": [
      "\n"
     ]
    }
   ],
   "source": [
    "h_a_average = {}\n",
    "for item in h:\n",
    "    h_a_average[item] = (h[item] + a[item])/2\n"
   ]
  },
  {
   "cell_type": "code",
   "execution_count": 180,
   "metadata": {},
   "outputs": [
    {
     "name": "stdout",
     "output_type": "stream",
     "text": [
      "[(u'https://en.wikipedia.org/wiki/Geographic_coordinate_system', 0.006872258248079537), (u'https://en.wikipedia.org/wiki/Time_zone', 0.003647324501163952), (u'https://en.wikipedia.org/wiki/Daylight_saving_time', 0.002946279459977675), (u'https://en.wikipedia.org/wiki/United_States', 0.0022969682728308134), (u'https://en.wikipedia.org/wiki/List_of_sovereign_states', 0.002057550400505187), (u'https://en.wikipedia.org/wiki/U.S._state', 0.0015843381640604588), (u'https://en.wikipedia.org/wiki/International_Standard_Book_Number', 0.0015698361272586212), (u'https://en.wikipedia.org/wiki/Telephone_numbering_plan', 0.0015014307463078296), (u'https://en.wikipedia.org/wiki/2010_United_States_Census', 0.0013349852401856712), (u'https://en.wikipedia.org/wiki/Geographic_Names_Information_System', 0.0013094105884073099)]\n"
     ]
    }
   ],
   "source": [
    "top10_h_a_average = sorted(h_a_average.items(), key=operator.itemgetter(1), reverse=True)[:10]\n",
    "print top10_h_a_average"
   ]
  },
  {
   "cell_type": "markdown",
   "metadata": {},
   "source": [
    "Топ10 по хабовости сильно итличается от топ 10 по pagerank, так как в топе пэйджранка были страницы из которых краулер не нашёл (не успел найти) исходящие ссылки.\n",
    "\n",
    "Топ10 по авторитетности частичн пересёкся с топ10 по pagerank.\n",
    "\n",
    "Топ 10 по среднему между хабовостью  авторитетностью также частично пересёкся с топ10 pagerank.\n",
    "    "
   ]
  },
  {
   "cell_type": "code",
   "execution_count": null,
   "metadata": {},
   "outputs": [],
   "source": []
  }
 ],
 "metadata": {
  "kernelspec": {
   "display_name": "Python 2",
   "language": "python",
   "name": "python2"
  },
  "language_info": {
   "codemirror_mode": {
    "name": "ipython",
    "version": 2
   },
   "file_extension": ".py",
   "mimetype": "text/x-python",
   "name": "python",
   "nbconvert_exporter": "python",
   "pygments_lexer": "ipython2",
   "version": "2.7.6"
  }
 },
 "nbformat": 4,
 "nbformat_minor": 0
}
